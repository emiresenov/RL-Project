{
  "cells": [
    {
      "cell_type": "code",
      "execution_count": null,
      "metadata": {
        "id": "whpaqdopnGJx"
      },
      "outputs": [],
      "source": [
        "! pip install gymnasium 'gymnasium[atari]' 'gymnasium[accept-rom-license]'"
      ]
    },
    {
      "cell_type": "markdown",
      "metadata": {
        "id": "ms9IhryuWcb-"
      },
      "source": [
        "## I moved the RL-Project files to the mounted google drive instead of using Github. We can also store our models there when we start training.\n",
        "\n",
        "Filepath: drive -> MyDrive -> RL-Project"
      ]
    },
    {
      "cell_type": "code",
      "execution_count": null,
      "metadata": {
        "id": "uMS3dl2YGjQg"
      },
      "outputs": [],
      "source": [
        "# Hide annoying deprecation warning\n",
        "import warnings\n",
        "warnings.filterwarnings(\"ignore\", category=DeprecationWarning) "
      ]
    },
    {
      "cell_type": "markdown",
      "metadata": {
        "id": "flT7wb_dXFvt"
      },
      "source": [
        "### Analyzing CartPole environment"
      ]
    },
    {
      "cell_type": "code",
      "execution_count": null,
      "metadata": {
        "colab": {
          "base_uri": "https://localhost:8080/"
        },
        "id": "NMA6ZU7m2Yxz",
        "outputId": "726e135e-6679-43bc-8234-31efa030a6b0"
      },
      "outputs": [
        {
          "name": "stdout",
          "output_type": "stream",
          "text": [
            "State space: Box([-4.8000002e+00 -3.4028235e+38 -4.1887903e-01 -3.4028235e+38], [4.8000002e+00 3.4028235e+38 4.1887903e-01 3.4028235e+38], (4,), float32)\n",
            "Action space: Discrete(2)\n"
          ]
        }
      ],
      "source": [
        "import gymnasium as gym\n",
        "\n",
        "env = gym.make('CartPole-v1')\n",
        "state, info = env.reset()\n",
        "print(\"State space:\", env.observation_space)\n",
        "print(\"Action space:\", env.action_space)"
      ]
    },
    {
      "cell_type": "markdown",
      "metadata": {
        "id": "UGUdjDj0CKbD"
      },
      "source": [
        "The observation is a ndarray with shape (4,) with the values corresponding to 0: Cart position, 1: Cart velocity, 2: Pole angle, 3: Pole angular velocity\n",
        "\n",
        "https://gymnasium.farama.org/environments/classic_control/cart_pole/\n"
      ]
    },
    {
      "cell_type": "markdown",
      "metadata": {
        "id": "j9dqTI3qOCNO"
      },
      "source": [
        "# I created a testfile for running experiments"
      ]
    },
    {
      "cell_type": "code",
      "execution_count": null,
      "metadata": {
        "colab": {
          "base_uri": "https://localhost:8080/"
        },
        "id": "BwLZB6lsPaVl",
        "outputId": "db5dfbd9-d889-44e7-8329-2c34be35d920"
      },
      "outputs": [
        {
          "name": "stdout",
          "output_type": "stream",
          "text": [
            "Traceback (most recent call last):\n",
            "\n",
            "^C\n"
          ]
        }
      ],
      "source": [
        "!python3 drive/MyDrive/RL-Project/TEST.py"
      ]
    },
    {
      "cell_type": "markdown",
      "metadata": {
        "id": "1iocSVvUt81c"
      },
      "source": [
        "# Moment of truth, try train.py"
      ]
    },
    {
      "cell_type": "code",
      "execution_count": null,
      "metadata": {
        "colab": {
          "base_uri": "https://localhost:8080/"
        },
        "id": "Um6wqdLufS9K",
        "outputId": "138b0f38-f9f0-4a65-e78b-2578f0f907ff"
      },
      "outputs": [
        {
          "name": "stdout",
          "output_type": "stream",
          "text": [
            "Episode 1/1000: 16.2\n",
            "Best performance so far! Saving model.\n",
            "Episode 26/1000: 9.8\n",
            "Episode 51/1000: 9.2\n",
            "Episode 76/1000: 9.6\n",
            "Episode 101/1000: 9.6\n",
            "Episode 126/1000: 9.2\n",
            "Episode 151/1000: 9.6\n",
            "Episode 176/1000: 9.2\n",
            "Episode 201/1000: 14.8\n",
            "Episode 226/1000: 102.8\n",
            "Best performance so far! Saving model.\n",
            "Episode 251/1000: 80.6\n",
            "Episode 276/1000: 70.0\n",
            "Episode 301/1000: 45.4\n",
            "Episode 326/1000: 101.8\n",
            "Episode 351/1000: 322.2\n",
            "Best performance so far! Saving model.\n",
            "Episode 376/1000: 353.4\n",
            "Best performance so far! Saving model.\n",
            "Episode 401/1000: 471.4\n",
            "Best performance so far! Saving model.\n",
            "Episode 426/1000: 502.2\n",
            "Best performance so far! Saving model.\n",
            "Episode 451/1000: 871.6\n",
            "Best performance so far! Saving model.\n",
            "Episode 476/1000: 569.2\n",
            "Episode 501/1000: 482.4\n",
            "Episode 526/1000: 628.6\n",
            "Episode 551/1000: 754.0\n",
            "Episode 576/1000: 488.0\n",
            "Episode 601/1000: 499.2\n",
            "Episode 626/1000: 450.6\n",
            "Episode 651/1000: 536.8\n",
            "Episode 676/1000: 541.8\n",
            "Episode 701/1000: 681.6\n",
            "Episode 726/1000: 643.4\n",
            "Episode 751/1000: 431.4\n",
            "Episode 776/1000: 721.8\n",
            "Episode 801/1000: 577.8\n",
            "Episode 826/1000: 831.6\n",
            "Episode 851/1000: 658.4\n",
            "Episode 876/1000: 762.0\n",
            "Episode 901/1000: 928.2\n",
            "Best performance so far! Saving model.\n",
            "Episode 926/1000: 585.8\n",
            "Episode 951/1000: 527.0\n",
            "Episode 976/1000: 531.4\n"
          ]
        }
      ],
      "source": [
        "!python3 drive/MyDrive/RL-Project/train.py"
      ]
    },
    {
      "cell_type": "markdown",
      "metadata": {
        "id": "CYatwo7PyGD7"
      },
      "source": [
        "# Try evaluation"
      ]
    },
    {
      "cell_type": "code",
      "execution_count": null,
      "metadata": {
        "colab": {
          "base_uri": "https://localhost:8080/"
        },
        "id": "FxhuRfijfS6_",
        "outputId": "9c59e1df-66dd-4e5d-9c71-74c216d47778"
      },
      "outputs": [
        {
          "name": "stdout",
          "output_type": "stream",
          "text": [
            "Finished episode 1 with a total return of 915.0\n",
            "Finished episode 2 with a total return of 887.0\n",
            "Finished episode 3 with a total return of 793.0\n",
            "Finished episode 4 with a total return of 875.0\n",
            "Finished episode 5 with a total return of 890.0\n",
            "Finished episode 6 with a total return of 671.0\n",
            "Finished episode 7 with a total return of 836.0\n",
            "Finished episode 8 with a total return of 616.0\n",
            "Finished episode 9 with a total return of 1187.0\n",
            "Finished episode 10 with a total return of 831.0\n",
            "Finished episode 11 with a total return of 972.0\n",
            "Finished episode 12 with a total return of 882.0\n",
            "Finished episode 13 with a total return of 778.0\n",
            "Finished episode 14 with a total return of 951.0\n",
            "Finished episode 15 with a total return of 867.0\n",
            "Finished episode 16 with a total return of 708.0\n",
            "Finished episode 17 with a total return of 749.0\n",
            "Finished episode 18 with a total return of 675.0\n",
            "Finished episode 19 with a total return of 658.0\n",
            "Finished episode 20 with a total return of 897.0\n",
            "Finished episode 21 with a total return of 1996.0\n",
            "Finished episode 22 with a total return of 920.0\n",
            "Finished episode 23 with a total return of 918.0\n",
            "Finished episode 24 with a total return of 1099.0\n",
            "Finished episode 25 with a total return of 837.0\n",
            "Finished episode 26 with a total return of 888.0\n",
            "Finished episode 27 with a total return of 1240.0\n",
            "Finished episode 28 with a total return of 1633.0\n",
            "Finished episode 29 with a total return of 736.0\n",
            "Finished episode 30 with a total return of 803.0\n",
            "Finished episode 31 with a total return of 756.0\n",
            "Finished episode 32 with a total return of 840.0\n",
            "Finished episode 33 with a total return of 1837.0\n",
            "Finished episode 34 with a total return of 827.0\n",
            "Finished episode 35 with a total return of 677.0\n",
            "Finished episode 36 with a total return of 869.0\n",
            "Finished episode 37 with a total return of 866.0\n",
            "Finished episode 38 with a total return of 937.0\n",
            "Finished episode 39 with a total return of 1527.0\n",
            "Finished episode 40 with a total return of 695.0\n",
            "Finished episode 41 with a total return of 1284.0\n",
            "Finished episode 42 with a total return of 842.0\n",
            "Finished episode 43 with a total return of 728.0\n",
            "Finished episode 44 with a total return of 1048.0\n",
            "Finished episode 45 with a total return of 811.0\n",
            "Finished episode 46 with a total return of 939.0\n",
            "Finished episode 47 with a total return of 1565.0\n",
            "Finished episode 48 with a total return of 976.0\n",
            "Finished episode 49 with a total return of 716.0\n",
            "Finished episode 50 with a total return of 971.0\n",
            "The policy got a mean return of 948.38 over 50 episodes.\n"
          ]
        }
      ],
      "source": [
        "!python3 drive/MyDrive/RL-Project/evaluate.py --path drive/MyDrive/RL-Project/models/CartPole-v1_best.pt --n_eval_episodes 50"
      ]
    },
    {
      "cell_type": "markdown",
      "metadata": {
        "id": "52zS1IuioBJE"
      },
      "source": [
        "# Plotting the episode returns during training with the given parameters"
      ]
    },
    {
      "cell_type": "code",
      "execution_count": null,
      "metadata": {
        "colab": {
          "base_uri": "https://localhost:8080/"
        },
        "id": "U2sScx8CfS2S",
        "outputId": "0de81c92-ca13-42b8-d555-4a2101ea3de5"
      },
      "outputs": [
        {
          "data": {
            "text/plain": [
              "40"
            ]
          },
          "execution_count": 4,
          "metadata": {},
          "output_type": "execute_result"
        }
      ],
      "source": [
        "episodes = [1, 26, 51, 76, 101, 126, 151, 176, 201, 226, 251, 276, 301, 326, 351, 376, 401, 426, 451, 476, 501, 526, 551, 576, 601, 626, 651, 676, 701, 726, 751, 776, 801, 826, 851, 876, 901, 926, 951, 976]\n",
        "len(episodes)"
      ]
    },
    {
      "cell_type": "code",
      "execution_count": null,
      "metadata": {
        "colab": {
          "base_uri": "https://localhost:8080/"
        },
        "id": "54vZLbsWfSvk",
        "outputId": "3386049e-9cd0-4767-f2d5-6c794b5c1a74"
      },
      "outputs": [
        {
          "data": {
            "text/plain": [
              "40"
            ]
          },
          "execution_count": 5,
          "metadata": {},
          "output_type": "execute_result"
        }
      ],
      "source": [
        "mean_returns = [16.2, 9.8, 9.2, 9.6, 9.6, 9.2, 9.6, 9.2, 14.8, 102.8, 80.6, 70.0, 45.4, 101.8, 322.2, 353.4, 471.4, 502.2, 871.6, 569.2, 482.4, 628.6, 754.0, 488.0, 499.2, 450.6, 536.8, 541.8, 681.6, 643.4, 431.4, 721.8, 577.8, 831.6, 658.4, 762.0, 928.2, 585.8, 527.0, 531.4]\n",
        "len(mean_returns)"
      ]
    },
    {
      "cell_type": "code",
      "execution_count": null,
      "metadata": {
        "colab": {
          "base_uri": "https://localhost:8080/",
          "height": 491
        },
        "id": "_behvjA4fStX",
        "outputId": "12a50c2f-0083-45e6-8007-27c22761b3f8"
      },
      "outputs": [
        {
          "data": {
            "image/png": "[encoded data removed]",
            "text/plain": [
              "<Figure size 640x480 with 1 Axes>"
            ]
          },
          "metadata": {},
          "output_type": "display_data"
        }
      ],
      "source": [
        "import matplotlib.pyplot as plt\n",
        "\n",
        "plt.plot(episodes, mean_returns, color=\"dimgray\")\n",
        "plt.title(\"Mean returns with unchanged hyperparameters\")\n",
        "plt.xlabel(\"Episode\", fontsize=13, labelpad=15)\n",
        "plt.ylabel(\"Mean return\", fontsize=13, labelpad=5)\n",
        "plt.grid()\n",
        "plt.show()"
      ]
    },
    {
      "cell_type": "markdown",
      "metadata": {
        "id": "-RJcHzAZwXLQ"
      },
      "source": [
        "# Running experiments with different hyperparameters "
      ]
    },
    {
      "cell_type": "code",
      "execution_count": null,
      "metadata": {
        "colab": {
          "background_save": true,
          "base_uri": "https://localhost:8080/"
        },
        "id": "veAO6ytWspXL",
        "outputId": "27a9041b-cce0-4a6d-8ef9-e1c1f8e536ef"
      },
      "outputs": [
        {
          "name": "stdout",
          "output_type": "stream",
          "text": [
            "Episode 1/1000: 9.2\n",
            "Best performance so far! Saving model.\n",
            "Episode 26/1000: 9.8\n",
            "Best performance so far! Saving model.\n",
            "Episode 51/1000: 9.2\n",
            "Episode 76/1000: 9.2\n",
            "Episode 101/1000: 9.2\n",
            "Episode 126/1000: 9.4\n",
            "Episode 151/1000: 9.0\n",
            "Episode 176/1000: 9.8\n",
            "Best performance so far! Saving model.\n",
            "Episode 201/1000: 86.6\n",
            "Best performance so far! Saving model.\n",
            "Episode 226/1000: 54.4\n",
            "Episode 251/1000: 63.6\n",
            "Episode 276/1000: 50.2\n",
            "Episode 301/1000: 64.2\n",
            "Episode 326/1000: 87.4\n",
            "Best performance so far! Saving model.\n",
            "Episode 351/1000: 139.8\n",
            "Best performance so far! Saving model.\n",
            "Episode 376/1000: 88.6\n",
            "Episode 401/1000: 87.6\n",
            "Episode 426/1000: 124.0\n"
          ]
        }
      ],
      "source": [
        "!python3 drive/MyDrive/RL-Project/train.py"
      ]
    },
    {
      "cell_type": "markdown",
      "metadata": {
        "id": "ANhKF4ZSx011"
      },
      "source": [
        "# Storing results from different hyperparameter experiments, will use these to make a multiplot later for the report\n",
        "\n",
        "For all experiments, we use the original hyperparameters as a baseline. We change one or a few of them at a time to see the differences."
      ]
    },
    {
      "cell_type": "code",
      "execution_count": null,
      "metadata": {
        "id": "YA-tnUv7spHt"
      },
      "outputs": [],
      "source": [
        "# batch_size = 10, target_update_frequency = 20\n",
        "episodes1 = [1, 26, 51, 76, 101, 126, 151, 176, 201, 226, 251, 276, 301, 326, 351, 376, 401, 426, 451, 476, 501, 526, 551, 576, 601, 626, 651, 676, 701, 726, 751, 776, 801, 826, 851, 876, 901, 926, 951, 976]\n",
        "means1 = [10.4, 9.6, 9.2, 9.2, 9.6, 9.4, 9.2, 9.4, 9.0, 9.2, 9.8, 8.6, 712.2, 38.4, 91.6, 68.8, 54.6, 61.2, 82.6, 52.4, 45.6, 69.8, 86.2, 148.6, 134.4, 293.0, 486.2, 239.2, 1852.0, 412.2, 451.8, 1059.6, 571.8, 1232.4, 740.2, 517.6, 402.6, 848.4, 397.0, 732.4]\n",
        "assert len(episodes1) == len(means1)\n",
        "\n",
        "# batch_size = 100, target_update_frequency = 250\n",
        "episodes2 = [1, 26, 51, 76, 101, 126, 151, 176, 201, 226, 251, 276, 301, 326, 351, 376, 401, 426, 451, 476, 501, 526, 551, 576, 601, 626, 651, 676, 701, 726, 751, 776, 801, 826, 851, 876, 901, 926, 951, 976]\n",
        "means2 = [28.0, 9.0, 9.0, 9.4, 9.2, 9.8, 14.0, 57.8, 54.2, 56.0, 82.2, 119.8, 778.0, 711.4, 369.6, 387.8, 464.4, 530.6, 373.4, 366.4, 437.6, 406.6, 430.0, 404.8, 395.4, 371.0, 336.8, 500.4, 346.0, 306.6, 331.6, 282.0, 271.6, 273.6, 292.2, 289.4, 246.2, 272.0, 261.0, 250.4]\n",
        "assert len(episodes2) == len(means2)\n",
        "\n",
        "# n_episodes = 1500 \n",
        "episodes3 = [1, 26, 51, 76, 101, 126, 151, 176, 201, 226, 251, 276, 301, 326, 351, 376, 401, 426, 451, 476, 501, 526, 551, 576, 601, 626, 651, 676, 701, 726, 751, 776, 801, 826, 851, 876, 901, 926, 951, 976, 1001, 1026, 1051, 1076, 1101, 1126, 1151, 1176, 1201, 1226, 1251, 1276, 1301, 1326, 1351, 1376, 1401, 1426, 1451, 1476]\n",
        "means3 = [9.6, 9.8, 9.8, 10.2, 9.4, 9.6, 9.8, 9.2, 9.4, 9.2, 37.4, 31.0, 53.8, 64.2, 44.0, 61.0, 67.2, 184.0, 105.2, 243.2, 625.2, 645.6, 308.4, 409.2, 444.2, 344.8, 308.0, 273.2, 277.6, 239.2, 256.6, 240.4, 220.2, 223.4, 216.8, 219.2, 207.4, 192.0, 194.4, 222.2, 230.6, 223.8, 242.2, 225.2, 235.0, 354.2, 227.4, 266.2, 285.2, 211.6, 223.8, 294.8, 246.0, 223.2, 238.8, 198.2, 239.6, 219.4, 240.4, 216.0]\n",
        "assert len(episodes3) == len(means3)\n",
        "\n",
        "# train_frequency = 2 (runs much faster than train_frequency = 1)\n",
        "episodes4 = [1, 26, 51, 76, 101, 126, 151, 176, 201, 226, 251, 276, 301, 326, 351, 376, 401, 426, 451, 476, 501, 526, 551, 576, 601, 626, 651, 676, 701, 726, 751, 776, 801, 826, 851, 876, 901, 926, 951, 976]\n",
        "means4 = [9.2, 9.4, 9.2, 9.2, 9.6, 9.2, 9.2, 9.0, 9.2, 9.2, 10.0, 9.6, 9.4, 11.2, 9.2, 9.4, 9.8, 102.6, 47.2, 47.6, 53.4, 51.2, 71.0, 65.2, 62.6, 50.4, 151.6, 108.8, 128.4, 96.0, 165.4, 391.2, 299.4, 276.0, 3087.4, 665.0, 1010.6, 1032.8, 704.0, 940.2]\n",
        "assert len(episodes4) == len(means4)\n",
        "\n",
        "# learning rate (lr) = 1e-3\n",
        "episodes5 = [1, 26, 51, 76, 101, 126, 151, 176, 201, 226, 251, 276, 301, 326, 351, 376, 401, 426, 451, 476, 501, 526, 551, 576, 601, 626, 651, 676, 701, 726, 751, 776, 801, 826, 851, 876, 901, 926, 951, 976]\n",
        "means5 = [9.6, 9.8, 67.2, 308.0, 171.8, 248.2, 262.8, 230.2, 222.8, 181.4, 200.0, 206.8, 205.0, 213.6, 243.8, 197.4, 211.8, 233.6, 151.2, 132.2, 161.2, 145.0, 154.4, 138.4, 179.6, 137.4, 120.6, 162.2, 124.8, 147.6, 128.8, 184.4, 107.6, 236.6, 167.2, 222.0, 125.0, 169.8, 119.2, 115.2]\n",
        "assert len(episodes5) == len(means5)\n",
        "\n",
        "# learning rate (lr) = 1e-5 (runs exremely fast, never improves)\n",
        "episodes6 = [1, 26, 51, 76, 101, 126, 151, 176, 201, 226, 251, 276, 301, 326, 351, 376, 401, 426, 451, 476, 501, 526, 551, 576, 601, 626, 651, 676, 701, 726, 751, 776, 801, 826, 851, 876, 901, 926, 951, 976]\n",
        "means6 = [8.4, 10.0, 10.0, 9.0, 9.2, 9.0, 9.2, 9.2, 9.0, 10.0, 9.8, 9.2, 8.8, 9.2, 9.4, 9.4, 9.4, 9.4, 9.8, 9.8, 9.6, 9.2, 9.4, 9.4, 10.0, 9.4, 9.2, 8.6, 9.2, 10.0, 9.4, 9.4, 9.8, 9.4, 9.8, 9.2, 9.4, 9.6, 9.4, 9.4]\n",
        "assert len(episodes6) == len(means6)\n",
        "\n",
        "# gamma = 0.999\n",
        "episodes7 = [1, 26, 51, 76, 101, 126, 151, 176, 201, 226, 251, 276, 301, 326, 351, 376, 401, 426, 451, 476, 501, 526, 551, 576, 601, 626, 651, 676, 701, 726, 751, 776, 801, 826, 851, 876, 901, 926, 951, 976]\n",
        "means7 = [9.2, 9.6, 8.8, 9.2, 9.6, 9.6, 9.2, 9.4, 10.0, 8.4, 11.4, 11.2, 9.8, 13.2, 31.6, 109.2, 50.8, 51.4, 78.6, 50.8, 47.4, 97.0, 152.6, 177.8, 361.2, 295.2, 426.8, 834.8, 2613.0, 1259.4, 445.2, 1846.2, 749.8, 138.6, 75.4, 64.6, 62.4, 97.0, 149.0, 242.2]\n",
        "assert len(episodes7) == len(means7)\n",
        "\n",
        "# gamma = 0.9\n",
        "episodes8 = [1, 26, 51, 76, 101, 126, 151, 176, 201, 226, 251, 276, 301, 326, 351, 376, 401, 426, 451, 476, 501, 526, 551, 576, 601, 626, 651, 676, 701, 726, 751, 776, 801, 826, 851, 876, 901, 926, 951, 976]\n",
        "means8 = [18.8, 8.8, 9.2, 8.6, 9.4, 9.2, 9.6, 37.2, 56.2, 47.2, 45.2, 76.8, 139.8, 262.4, 664.0, 442.6, 436.0, 348.4, 327.0, 321.0, 377.4, 269.8, 404.2, 443.2, 323.0, 412.0, 391.2, 334.2, 249.4, 346.2, 362.0, 267.4, 331.2, 312.0, 273.4, 290.0, 242.6, 205.8, 215.6, 187.8]\n",
        "assert len(episodes8) == len(means8)\n",
        "\n",
        "# memory_size = 5000\n",
        "episodes9 = [1, 26, 51, 76, 101, 126, 151, 176, 201, 226, 251, 276, 301, 326, 351, 376, 401, 426, 451, 476, 501, 526, 551, 576, 601, 626, 651, 676, 701, 726, 751, 776, 801, 826, 851, 876, 901, 926, 951, 976]\n",
        "means9 = [9.6, 9.4, 9.0, 9.6, 9.4, 9.2, 9.4, 11.0, 9.6, 9.6, 72.4, 33.0, 80.8, 38.6, 53.0, 39.0, 58.8, 77.6, 77.8, 72.4, 130.6, 203.2, 215.8, 121.0, 349.0, 192.6, 210.0, 305.0, 177.2, 161.0, 164.6, 157.0, 190.4, 230.2, 15.8, 20.0, 221.4, 106.4, 162.4, 167.8]\n",
        "assert len(episodes9) == len(means9)\n",
        "\n",
        "\n",
        "\n",
        "#Will probably discard anneal_length, not too interesting\n",
        "# anneal_length = 10**3\n",
        "#episodes9 = [1, 26, 51, 76, 101, 126, 151, 176, 201, 226, 251, 276, 301, 326, 351, 376, 401, 426, 451, 476, 501, 526, 551, 576, 601, 626, 651, 676, 701, 726, 751, 776, 801, 826, 851, 876, 901, 926, 951, 976]\n",
        "#means9 = [10.0, 9.4, 8.8, 9.2, 9.4, 10.0, 9.6, 10.0, 9.6, 10.8, 11.4, 21.6, 9.8, 9.6, 9.6, 9.2, 9.4, 9.6, 169.2, 34.4, 42.0, 45.4, 62.4, 46.2, 70.4, 218.8, 97.4, 125.4, 177.6, 549.6, 318.6, 295.8, 307.8, 210.6, 275.6, 685.6, 476.8, 271.0, 190.4, 245.2]\n",
        "#assert len(episodes9) == len(means9)\n",
        "\n",
        "# anneal_length = 10**5\n",
        "#episodes10 = [1, 26, 51, 76, 101, 126, 151, 176, 201, 226, 251, 276, 301, 326, 351, 376, 401, 426, 451, 476, 501, 526, 551, 576, 601, 626, 651, 676, 701, 726, 751, 776, 801, 826, 851, 876, 901, 926, 951, 976]\n",
        "#means10 = [9.0, 10.0, 9.4, 9.4, 9.2, 9.2, 9.0, 9.0, 9.6, 11.8, 20.4, 64.4, 89.2, 59.0, 75.2, 38.4, 54.4, 67.2, 47.6, 63.2, 71.6, 96.2, 121.8, 86.4, 115.4, 73.6, 189.2, 171.2, 275.8, 133.4, 110.8, 427.0, 202.6, 164.4, 211.6, 219.8, 306.4, 303.0, 331.6, 317.8]\n",
        "#assert len(episodes10) == len(means10)\n",
        "\n",
        "\n"
      ]
    },
    {
      "cell_type": "code",
      "execution_count": null,
      "metadata": {
        "colab": {
          "base_uri": "https://localhost:8080/",
          "height": 491
        },
        "id": "L26B4-P0spFX",
        "outputId": "8fec948f-bac7-4044-a327-8c9c9996145d"
      },
      "outputs": [
        {
          "data": {
            "image/png": "[encoded data removed]",
            "text/plain": [
              "<Figure size 640x480 with 1 Axes>"
            ]
          },
          "metadata": {},
          "output_type": "display_data"
        }
      ],
      "source": [
        "plt.plot(episodes, mean_returns, label=\"unchanged hyperparameters\")\n",
        "plt.plot(episodes1, means1, label=\"batch_size = 10, TUF = 20\")\n",
        "plt.plot(episodes2, means2, label=\"batch_size = 100, TUF = 250\")\n",
        "#plt.plot(episodes3, means3, label=\"n_episodes = 1500\")\n",
        "plt.plot(episodes4, means4, label=\"train_frequency = 2\")\n",
        "plt.plot(episodes5, means5, label=\"learning rate (lr) = 1e-3\")\n",
        "plt.plot(episodes6, means6, label=\"learning rate (lr) = 1e-5\")\n",
        "plt.plot(episodes7, means7, label=\"gamma = 0.999\")\n",
        "plt.plot(episodes8, means8, label=\"gamma = 0.9\")\n",
        "plt.plot(episodes9, means9, label=\"memory_size = 5000\")\n",
        "plt.title(\"Mean returns for different hyperparameters\")\n",
        "plt.xlabel(\"Episode\", fontsize=13, labelpad=15)\n",
        "plt.ylabel(\"Mean return\", fontsize=13, labelpad=5)\n",
        "plt.grid()\n",
        "plt.legend()\n",
        "plt.show()"
      ]
    },
    {
      "cell_type": "code",
      "execution_count": null,
      "metadata": {
        "id": "m3VyDc2cBugy"
      },
      "outputs": [],
      "source": []
    },
    {
      "cell_type": "code",
      "execution_count": null,
      "metadata": {
        "id": "oLbUJGGPspC2"
      },
      "outputs": [],
      "source": [
        "import torch"
      ]
    },
    {
      "cell_type": "code",
      "execution_count": null,
      "metadata": {
        "colab": {
          "base_uri": "https://localhost:8080/"
        },
        "id": "0IirzUs6so_R",
        "outputId": "aa695073-7af1-4dc9-8ee4-15459e6efd01"
      },
      "outputs": [
        {
          "data": {
            "text/plain": [
              "tensor([[2],\n",
              "        [2],\n",
              "        [2],\n",
              "        [2],\n",
              "        [3],\n",
              "        [3],\n",
              "        [2],\n",
              "        [3],\n",
              "        [2],\n",
              "        [2]])"
            ]
          },
          "execution_count": 3,
          "metadata": {},
          "output_type": "execute_result"
        }
      ],
      "source": [
        "torch.randint(\n",
        "            low=2, \n",
        "            high=4, \n",
        "            size=(10, 1)\n",
        "          )"
      ]
    },
    {
      "cell_type": "code",
      "execution_count": null,
      "metadata": {
        "colab": {
          "base_uri": "https://localhost:8080/"
        },
        "id": "uSoviIaFso4G",
        "outputId": "062d8ab4-fcf7-4671-cdff-67b7ac58bfea"
      },
      "outputs": [
        {
          "name": "stdout",
          "output_type": "stream",
          "text": [
            "A.L.E: Arcade Learning Environment (version 0.8.1+53f58b7)\n",
            "[Powered by Stella]\n",
            "tensor([[-0.0438, -0.0355]], device='cuda:0', grad_fn=<AddmmBackward0>)\n",
            "2\n",
            "2\n",
            "3\n",
            "3\n",
            "2\n",
            "3\n",
            "2\n",
            "3\n",
            "3\n",
            "2\n",
            "2\n",
            "2\n",
            "2\n",
            "2\n",
            "2\n",
            "3\n",
            "3\n",
            "3\n",
            "2\n",
            "2\n",
            "3\n",
            "3\n",
            "2\n",
            "2\n",
            "2\n"
          ]
        }
      ],
      "source": [
        "!python3 drive/MyDrive/RL-Project/Atari/TEST.py"
      ]
    },
    {
      "cell_type": "markdown",
      "metadata": {
        "id": "tmAVFk78CNAG"
      },
      "source": []
    },
    {
      "cell_type": "code",
      "execution_count": null,
      "metadata": {
        "colab": {
          "base_uri": "https://localhost:8080/"
        },
        "id": "WK95ww_sCJCU",
        "outputId": "479eeb17-deb9-48da-a7c5-8dc421bb3cee"
      },
      "outputs": [
        {
          "output_type": "stream",
          "name": "stdout",
          "text": [
            "A.L.E: Arcade Learning Environment (version 0.8.1+53f58b7)\n",
            "[Powered by Stella]\n",
            "Episode 1/5000: -21.0\n",
            "Best performance so far! Saving model.\n",
            "Episode 26/5000: -21.0\n",
            "Best performance so far! Saving model.\n",
            "Episode 51/5000: -21.0\n",
            "Best performance so far! Saving model.\n",
            "Episode 76/5000: -21.0\n",
            "Best performance so far! Saving model.\n",
            "Episode 101/5000: -20.6\n",
            "Best performance so far! Saving model.\n",
            "Episode 126/5000: -21.0\n",
            "Episode 151/5000: -20.6\n",
            "Best performance so far! Saving model.\n",
            "Episode 176/5000: -20.2\n",
            "Best performance so far! Saving model.\n",
            "Episode 201/5000: -19.0\n",
            "Best performance so far! Saving model.\n",
            "Episode 226/5000: -17.8\n",
            "Best performance so far! Saving model.\n",
            "Episode 251/5000: -19.8\n",
            "Episode 276/5000: -17.6\n",
            "Best performance so far! Saving model.\n",
            "Episode 301/5000: -17.0\n",
            "Best performance so far! Saving model.\n",
            "Episode 326/5000: -14.8\n",
            "Best performance so far! Saving model.\n",
            "Episode 351/5000: -17.6\n",
            "Episode 376/5000: -16.6\n",
            "Episode 401/5000: -17.2\n",
            "Episode 426/5000: -15.0\n",
            "Episode 451/5000: -18.8\n",
            "Episode 476/5000: -16.6\n",
            "Episode 501/5000: -15.8\n",
            "Episode 526/5000: -15.6\n",
            "Episode 551/5000: -16.0\n",
            "Episode 576/5000: -13.8\n",
            "Best performance so far! Saving model.\n",
            "Episode 601/5000: -14.2\n",
            "Episode 626/5000: -20.6\n",
            "Episode 651/5000: -14.6\n",
            "Episode 676/5000: -15.4\n",
            "Episode 701/5000: -15.8\n",
            "Episode 726/5000: -16.6\n",
            "Episode 751/5000: -12.4\n",
            "Best performance so far! Saving model.\n",
            "Episode 776/5000: -12.4\n",
            "Best performance so far! Saving model.\n",
            "Episode 801/5000: -14.6\n",
            "Episode 826/5000: -14.2\n",
            "Episode 851/5000: -9.6\n",
            "Best performance so far! Saving model.\n",
            "Episode 876/5000: -11.2\n",
            "Episode 901/5000: -12.8\n",
            "Episode 926/5000: -4.8\n",
            "Best performance so far! Saving model.\n",
            "Episode 951/5000: -2.2\n",
            "Best performance so far! Saving model.\n",
            "Episode 976/5000: 2.8\n",
            "Best performance so far! Saving model.\n",
            "Episode 1001/5000: -0.2\n",
            "Episode 1026/5000: -3.0\n",
            "Episode 1051/5000: 7.6\n",
            "Best performance so far! Saving model.\n",
            "Episode 1076/5000: 8.4\n",
            "Best performance so far! Saving model.\n",
            "Episode 1101/5000: -3.8\n",
            "Episode 1126/5000: -3.0\n",
            "Episode 1151/5000: 2.2\n",
            "Episode 1176/5000: 11.6\n",
            "Best performance so far! Saving model.\n",
            "Episode 1201/5000: -6.2\n",
            "Episode 1226/5000: 0.4\n",
            "Episode 1251/5000: 6.4\n",
            "Episode 1276/5000: 2.6\n",
            "Episode 1301/5000: 9.6\n",
            "Episode 1326/5000: 4.8\n",
            "Episode 1351/5000: 4.0\n",
            "Episode 1376/5000: 6.0\n",
            "Episode 1401/5000: 2.0\n",
            "Episode 1426/5000: 3.8\n",
            "Episode 1451/5000: 7.0\n",
            "Episode 1476/5000: 6.8\n",
            "Episode 1501/5000: 5.6\n",
            "Episode 1526/5000: 0.8\n",
            "Episode 1551/5000: 5.6\n",
            "Episode 1576/5000: 5.6\n",
            "Episode 1601/5000: 5.6\n",
            "Episode 1626/5000: 7.6\n",
            "Episode 1651/5000: 4.8\n",
            "Episode 1676/5000: 9.8\n",
            "Episode 1701/5000: -2.2\n",
            "Episode 1726/5000: 4.6\n",
            "Episode 1751/5000: 3.6\n",
            "Episode 1776/5000: 6.4\n",
            "Episode 1801/5000: 3.8\n",
            "Episode 1826/5000: 3.6\n",
            "Episode 1851/5000: 4.6\n",
            "Episode 1876/5000: 0.4\n",
            "Episode 1901/5000: 5.0\n",
            "Episode 1926/5000: 9.8\n",
            "Episode 1951/5000: 3.6\n",
            "Episode 1976/5000: 8.2\n",
            "Episode 2001/5000: 5.6\n",
            "Episode 2026/5000: 0.6\n",
            "Episode 2051/5000: 7.4\n",
            "Episode 2076/5000: 7.0\n",
            "Episode 2101/5000: 5.2\n",
            "Episode 2126/5000: 5.6\n",
            "Episode 2151/5000: -5.4\n",
            "Episode 2176/5000: 12.4\n",
            "Best performance so far! Saving model.\n",
            "Episode 2201/5000: 7.8\n",
            "Episode 2226/5000: 1.2\n",
            "Episode 2251/5000: 10.2\n",
            "Episode 2276/5000: 11.4\n",
            "Episode 2301/5000: 6.8\n",
            "Episode 2326/5000: 11.4\n",
            "Episode 2351/5000: 5.6\n",
            "Episode 2376/5000: 3.6\n",
            "Episode 2401/5000: 11.8\n",
            "Episode 2426/5000: 13.2\n",
            "Best performance so far! Saving model.\n",
            "Episode 2451/5000: 12.8\n",
            "Episode 2476/5000: 11.0\n",
            "Episode 2501/5000: 13.0\n",
            "Episode 2526/5000: 10.0\n",
            "Episode 2551/5000: 8.8\n",
            "Episode 2576/5000: 10.0\n",
            "Episode 2601/5000: 9.0\n",
            "Episode 2626/5000: 12.0\n",
            "Episode 2651/5000: 11.8\n",
            "Episode 2676/5000: 13.4\n",
            "Best performance so far! Saving model.\n",
            "Episode 2701/5000: 8.6\n",
            "Episode 2726/5000: 8.2\n",
            "Episode 2751/5000: 9.0\n",
            "Episode 2776/5000: 13.2\n",
            "Episode 2801/5000: 11.2\n",
            "Episode 2826/5000: 11.8\n",
            "Episode 2851/5000: 4.0\n",
            "Episode 2876/5000: 9.8\n",
            "Episode 2901/5000: 11.6\n",
            "Episode 2926/5000: 13.4\n",
            "Best performance so far! Saving model.\n",
            "Episode 2951/5000: 10.6\n",
            "Episode 2976/5000: 7.8\n",
            "Episode 3001/5000: 9.8\n",
            "Episode 3026/5000: 11.8\n",
            "Episode 3051/5000: 14.4\n",
            "Best performance so far! Saving model.\n",
            "Episode 3076/5000: 11.4\n",
            "Episode 3101/5000: 12.4\n",
            "Episode 3126/5000: 8.0\n",
            "Episode 3151/5000: 14.8\n",
            "Best performance so far! Saving model.\n",
            "Episode 3176/5000: 12.8\n",
            "Episode 3201/5000: 7.2\n",
            "Episode 3226/5000: 9.8\n",
            "Episode 3251/5000: 7.2\n",
            "Episode 3276/5000: 8.6\n",
            "Episode 3301/5000: 14.0\n",
            "Episode 3326/5000: 11.0\n",
            "Episode 3351/5000: 12.8\n",
            "Episode 3376/5000: 9.0\n",
            "Episode 3401/5000: 9.8\n",
            "Episode 3426/5000: 10.6\n",
            "Episode 3451/5000: 7.4\n",
            "Episode 3476/5000: 8.2\n",
            "Episode 3501/5000: 9.6\n",
            "Episode 3526/5000: 11.4\n",
            "Episode 3551/5000: 13.4\n",
            "Episode 3576/5000: 10.4\n",
            "Episode 3601/5000: 11.4\n",
            "Episode 3626/5000: 12.4\n",
            "Episode 3651/5000: 10.4\n",
            "Episode 3676/5000: 11.8\n",
            "Episode 3701/5000: 9.4\n",
            "Episode 3726/5000: 8.8\n",
            "Episode 3751/5000: 7.6\n",
            "Episode 3776/5000: 11.8\n",
            "Episode 3801/5000: 12.0\n",
            "Episode 3826/5000: 9.6\n",
            "Episode 3851/5000: 8.4\n",
            "Episode 3876/5000: 12.6\n",
            "Episode 3901/5000: 12.8\n",
            "Episode 3926/5000: 12.2\n",
            "Episode 3951/5000: 12.2\n",
            "Episode 3976/5000: 12.4\n",
            "Episode 4001/5000: 13.2\n",
            "Episode 4026/5000: 14.4\n",
            "Episode 4051/5000: 11.8\n",
            "Episode 4076/5000: 4.8\n",
            "Episode 4101/5000: 10.8\n",
            "Episode 4126/5000: 9.2\n",
            "Episode 4151/5000: 15.4\n",
            "Best performance so far! Saving model.\n",
            "Episode 4176/5000: 7.0\n",
            "Episode 4201/5000: 9.4\n",
            "Episode 4226/5000: 2.4\n",
            "Episode 4251/5000: 14.8\n",
            "Episode 4276/5000: 13.2\n",
            "Episode 4301/5000: 8.6\n",
            "Episode 4326/5000: 10.0\n",
            "Episode 4351/5000: 7.4\n",
            "Episode 4376/5000: 9.8\n",
            "Episode 4401/5000: 10.0\n",
            "Episode 4426/5000: 11.2\n",
            "Episode 4451/5000: 11.8\n",
            "Episode 4476/5000: 12.0\n",
            "Episode 4501/5000: 11.2\n",
            "Episode 4526/5000: 11.0\n",
            "Episode 4551/5000: 10.2\n",
            "Episode 4576/5000: 10.8\n",
            "Episode 4601/5000: 11.6\n",
            "Episode 4626/5000: 10.4\n",
            "Episode 4651/5000: -3.2\n",
            "Episode 4676/5000: 5.2\n",
            "Episode 4701/5000: 10.6\n",
            "Episode 4726/5000: 12.6\n",
            "Episode 4751/5000: 10.8\n",
            "Episode 4776/5000: 15.2\n",
            "Episode 4801/5000: 14.2\n",
            "Episode 4826/5000: 8.6\n",
            "Episode 4851/5000: 11.0\n",
            "Episode 4876/5000: 11.6\n",
            "Episode 4901/5000: 5.8\n",
            "Episode 4926/5000: 8.4\n",
            "Episode 4951/5000: 14.2\n",
            "Episode 4976/5000: 7.0\n",
            "Episodes array:  [1, 26, 51, 76, 101, 126, 151, 176, 201, 226, 251, 276, 301, 326, 351, 376, 401, 426, 451, 476, 501, 526, 551, 576, 601, 626, 651, 676, 701, 726, 751, 776, 801, 826, 851, 876, 901, 926, 951, 976, 1001, 1026, 1051, 1076, 1101, 1126, 1151, 1176, 1201, 1226, 1251, 1276, 1301, 1326, 1351, 1376, 1401, 1426, 1451, 1476, 1501, 1526, 1551, 1576, 1601, 1626, 1651, 1676, 1701, 1726, 1751, 1776, 1801, 1826, 1851, 1876, 1901, 1926, 1951, 1976, 2001, 2026, 2051, 2076, 2101, 2126, 2151, 2176, 2201, 2226, 2251, 2276, 2301, 2326, 2351, 2376, 2401, 2426, 2451, 2476, 2501, 2526, 2551, 2576, 2601, 2626, 2651, 2676, 2701, 2726, 2751, 2776, 2801, 2826, 2851, 2876, 2901, 2926, 2951, 2976, 3001, 3026, 3051, 3076, 3101, 3126, 3151, 3176, 3201, 3226, 3251, 3276, 3301, 3326, 3351, 3376, 3401, 3426, 3451, 3476, 3501, 3526, 3551, 3576, 3601, 3626, 3651, 3676, 3701, 3726, 3751, 3776, 3801, 3826, 3851, 3876, 3901, 3926, 3951, 3976, 4001, 4026, 4051, 4076, 4101, 4126, 4151, 4176, 4201, 4226, 4251, 4276, 4301, 4326, 4351, 4376, 4401, 4426, 4451, 4476, 4501, 4526, 4551, 4576, 4601, 4626, 4651, 4676, 4701, 4726, 4751, 4776, 4801, 4826, 4851, 4876, 4901, 4926, 4951, 4976]\n",
            "Mean returns array:  [-21.0, -21.0, -21.0, -21.0, -20.6, -21.0, -20.6, -20.2, -19.0, -17.8, -19.8, -17.6, -17.0, -14.8, -17.6, -16.6, -17.2, -15.0, -18.8, -16.6, -15.8, -15.6, -16.0, -13.8, -14.2, -20.6, -14.6, -15.4, -15.8, -16.6, -12.4, -12.4, -14.6, -14.2, -9.6, -11.2, -12.8, -4.8, -2.2, 2.8, -0.2, -3.0, 7.6, 8.4, -3.8, -3.0, 2.2, 11.6, -6.2, 0.4, 6.4, 2.6, 9.6, 4.8, 4.0, 6.0, 2.0, 3.8, 7.0, 6.8, 5.6, 0.8, 5.6, 5.6, 5.6, 7.6, 4.8, 9.8, -2.2, 4.6, 3.6, 6.4, 3.8, 3.6, 4.6, 0.4, 5.0, 9.8, 3.6, 8.2, 5.6, 0.6, 7.4, 7.0, 5.2, 5.6, -5.4, 12.4, 7.8, 1.2, 10.2, 11.4, 6.8, 11.4, 5.6, 3.6, 11.8, 13.2, 12.8, 11.0, 13.0, 10.0, 8.8, 10.0, 9.0, 12.0, 11.8, 13.4, 8.6, 8.2, 9.0, 13.2, 11.2, 11.8, 4.0, 9.8, 11.6, 13.4, 10.6, 7.8, 9.8, 11.8, 14.4, 11.4, 12.4, 8.0, 14.8, 12.8, 7.2, 9.8, 7.2, 8.6, 14.0, 11.0, 12.8, 9.0, 9.8, 10.6, 7.4, 8.2, 9.6, 11.4, 13.4, 10.4, 11.4, 12.4, 10.4, 11.8, 9.4, 8.8, 7.6, 11.8, 12.0, 9.6, 8.4, 12.6, 12.8, 12.2, 12.2, 12.4, 13.2, 14.4, 11.8, 4.8, 10.8, 9.2, 15.4, 7.0, 9.4, 2.4, 14.8, 13.2, 8.6, 10.0, 7.4, 9.8, 10.0, 11.2, 11.8, 12.0, 11.2, 11.0, 10.2, 10.8, 11.6, 10.4, -3.2, 5.2, 10.6, 12.6, 10.8, 15.2, 14.2, 8.6, 11.0, 11.6, 5.8, 8.4, 14.2, 7.0]\n"
          ]
        }
      ],
      "source": [
        "!python3 drive/MyDrive/RL-Project/Atari/train.py"
      ]
    },
    {
      "cell_type": "code",
      "execution_count": null,
      "metadata": {
        "colab": {
          "base_uri": "https://localhost:8080/"
        },
        "id": "2d--RHLVCPOi",
        "outputId": "ba5212f7-b3d1-4761-bb73-92d056bb24f2"
      },
      "outputs": [
        {
          "output_type": "stream",
          "name": "stdout",
          "text": [
            "A.L.E: Arcade Learning Environment (version 0.8.1+53f58b7)\n",
            "[Powered by Stella]\n",
            "/usr/local/lib/python3.9/dist-packages/gymnasium/wrappers/record_video.py:87: UserWarning: \u001b[33mWARN: Overwriting existing videos at /content/drive/MyDrive/RL-Project/videos folder (try specifying a different `video_folder` for the `RecordVideo` wrapper if this is not desired)\u001b[0m\n",
            "  logger.warn(\n",
            "/usr/local/lib/python3.9/dist-packages/gymnasium/utils/passive_env_checker.py:364: UserWarning: \u001b[33mWARN: No render fps was declared in the environment (env.metadata['render_fps'] is None or not defined), rendering may occur at inconsistent fps.\u001b[0m\n",
            "  logger.warn(\n",
            "/usr/local/lib/python3.9/dist-packages/pkg_resources/__init__.py:121: DeprecationWarning: pkg_resources is deprecated as an API\n",
            "  warnings.warn(\"pkg_resources is deprecated as an API\", DeprecationWarning)\n",
            "/usr/local/lib/python3.9/dist-packages/pkg_resources/__init__.py:2870: DeprecationWarning: Deprecated call to `pkg_resources.declare_namespace('google')`.\n",
            "Implementing implicit namespace packages (as specified in PEP 420) is preferred to `pkg_resources.declare_namespace`. See https://setuptools.pypa.io/en/latest/references/keywords.html#keyword-namespace-packages\n",
            "  declare_namespace(pkg)\n",
            "/usr/local/lib/python3.9/dist-packages/pkg_resources/__init__.py:2870: DeprecationWarning: Deprecated call to `pkg_resources.declare_namespace('google.cloud')`.\n",
            "Implementing implicit namespace packages (as specified in PEP 420) is preferred to `pkg_resources.declare_namespace`. See https://setuptools.pypa.io/en/latest/references/keywords.html#keyword-namespace-packages\n",
            "  declare_namespace(pkg)\n",
            "/usr/local/lib/python3.9/dist-packages/pkg_resources/__init__.py:2870: DeprecationWarning: Deprecated call to `pkg_resources.declare_namespace('google.logging')`.\n",
            "Implementing implicit namespace packages (as specified in PEP 420) is preferred to `pkg_resources.declare_namespace`. See https://setuptools.pypa.io/en/latest/references/keywords.html#keyword-namespace-packages\n",
            "  declare_namespace(pkg)\n",
            "/usr/local/lib/python3.9/dist-packages/pkg_resources/__init__.py:2870: DeprecationWarning: Deprecated call to `pkg_resources.declare_namespace('mpl_toolkits')`.\n",
            "Implementing implicit namespace packages (as specified in PEP 420) is preferred to `pkg_resources.declare_namespace`. See https://setuptools.pypa.io/en/latest/references/keywords.html#keyword-namespace-packages\n",
            "  declare_namespace(pkg)\n",
            "/usr/local/lib/python3.9/dist-packages/pkg_resources/__init__.py:2870: DeprecationWarning: Deprecated call to `pkg_resources.declare_namespace('sphinxcontrib')`.\n",
            "Implementing implicit namespace packages (as specified in PEP 420) is preferred to `pkg_resources.declare_namespace`. See https://setuptools.pypa.io/en/latest/references/keywords.html#keyword-namespace-packages\n",
            "  declare_namespace(pkg)\n",
            "Moviepy - Building video /content/drive/MyDrive/RL-Project/videos/rl-video-episode-0.mp4.\n",
            "Moviepy - Writing video /content/drive/MyDrive/RL-Project/videos/rl-video-episode-0.mp4\n",
            "\n",
            "Moviepy - Done !\n",
            "Moviepy - video ready /content/drive/MyDrive/RL-Project/videos/rl-video-episode-0.mp4\n",
            "Finished episode 1 with a total return of 9.0\n",
            "The policy got a mean return of 9.0 over 1 episodes.\n"
          ]
        }
      ],
      "source": [
        "!python3 drive/MyDrive/RL-Project/Atari/evaluate.py --path drive/MyDrive/RL-Project/models/ALE/Pong-v5_best.pt --save_video"
      ]
    },
    {
      "cell_type": "code",
      "execution_count": null,
      "metadata": {
        "id": "ZsYrwzcBCPMR"
      },
      "outputs": [],
      "source": []
    },
    {
      "cell_type": "code",
      "source": [],
      "metadata": {
        "id": "agpr266xMoVa"
      },
      "execution_count": null,
      "outputs": []
    },
    {
      "cell_type": "code",
      "source": [],
      "metadata": {
        "id": "bGOlydZKMVWK"
      },
      "execution_count": null,
      "outputs": []
    },
    {
      "cell_type": "code",
      "source": [],
      "metadata": {
        "id": "uSyfRdpl4IkG"
      },
      "execution_count": null,
      "outputs": []
    },
    {
      "cell_type": "code",
      "source": [],
      "metadata": {
        "id": "glzKf_F0TbTR"
      },
      "execution_count": null,
      "outputs": []
    },
    {
      "cell_type": "code",
      "source": [
        " "
      ],
      "metadata": {
        "id": "THSq7JFRGR3D"
      },
      "execution_count": null,
      "outputs": []
    },
    {
      "cell_type": "code",
      "source": [],
      "metadata": {
        "id": "7PVs9dJ96-lo"
      },
      "execution_count": null,
      "outputs": []
    },
    {
      "cell_type": "code",
      "source": [],
      "metadata": {
        "id": "21_-7JDwXlwv"
      },
      "execution_count": null,
      "outputs": []
    },
    {
      "cell_type": "code",
      "source": [],
      "metadata": {
        "id": "HkeWL9t_V4Cw"
      },
      "execution_count": null,
      "outputs": []
    },
    {
      "cell_type": "code",
      "source": [],
      "metadata": {
        "id": "6XZ_i2lHV39W"
      },
      "execution_count": null,
      "outputs": []
    }
  ],
  "metadata": {
    "accelerator": "GPU",
    "colab": {
      "provenance": [],
      "gpuType": "T4"
    },
    "gpuClass": "standard",
    "kernelspec": {
      "display_name": "Python 3",
      "name": "python3"
    },
    "language_info": {
      "name": "python"
    }
  },
  "nbformat": 4,
  "nbformat_minor": 0
}